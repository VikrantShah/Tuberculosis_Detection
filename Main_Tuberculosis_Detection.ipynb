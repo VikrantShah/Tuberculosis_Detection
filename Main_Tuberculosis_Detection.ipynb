{
 "cells": [
  {
   "cell_type": "markdown",
   "metadata": {},
   "source": [
    "# Importing the Libraries"
   ]
  },
  {
   "cell_type": "code",
   "execution_count": 1,
   "metadata": {},
   "outputs": [],
   "source": [
    "from tensorflow import keras\n",
    "from tensorflow.keras.preprocessing.image import ImageDataGenerator\n",
    "from tensorflow.keras.models import Sequential\n",
    "from tensorflow.keras.layers import Conv2D\n",
    "from tensorflow.keras.layers import MaxPooling2D\n",
    "from tensorflow.keras.layers import Flatten\n",
    "from tensorflow.keras.layers import Dense\n",
    "from tensorflow.keras.callbacks import EarlyStopping\n",
    "from tensorflow.keras.callbacks import ModelCheckpoint\n",
    "import matplotlib.pyplot as plt"
   ]
  },
  {
   "cell_type": "markdown",
   "metadata": {},
   "source": [
    "# Getting and loading the Training, Testing and Validation set"
   ]
  },
  {
   "cell_type": "code",
   "execution_count": 2,
   "metadata": {},
   "outputs": [],
   "source": [
    "path = r\"C:\\AI-DocHelper_Models_Code\\Tuberculosis_Detection\\dataset\""
   ]
  },
  {
   "cell_type": "code",
   "execution_count": 3,
   "metadata": {},
   "outputs": [],
   "source": [
    "batch_size = 16\n",
    "img_size = (256, 256)"
   ]
  },
  {
   "cell_type": "code",
   "execution_count": 4,
   "metadata": {},
   "outputs": [],
   "source": [
    "image_datagen = ImageDataGenerator(rescale = 1./255,\n",
    "                                  rotation_range=40.,\n",
    "                                  width_shift_range=0.2,\n",
    "                                  height_shift_range=0.2,\n",
    "                                  shear_range=0.2,\n",
    "                                  zoom_range=0.2, \n",
    "                                  horizontal_flip=True,\n",
    "                                  fill_mode=\"nearest\",\n",
    "                                  validation_split=0.2)"
   ]
  },
  {
   "cell_type": "code",
   "execution_count": 5,
   "metadata": {},
   "outputs": [
    {
     "name": "stdout",
     "output_type": "stream",
     "text": [
      "Found 5600 images belonging to 2 classes.\n",
      "Found 1400 images belonging to 2 classes.\n"
     ]
    }
   ],
   "source": [
    "train_generator = image_datagen.flow_from_directory(path,\n",
    "                                                   target_size=img_size,\n",
    "                                                   batch_size=batch_size,\n",
    "                                                   color_mode = \"grayscale\",\n",
    "                                                   class_mode=\"binary\",\n",
    "                                                   subset=\"training\",\n",
    "                                                   shuffle=True)\n",
    "\n",
    "validation_generator = image_datagen.flow_from_directory(path,\n",
    "                                                        target_size=img_size,\n",
    "                                                        batch_size=batch_size,\n",
    "                                                        color_mode = \"grayscale\",\n",
    "                                                        class_mode=\"binary\",\n",
    "                                                        subset=\"validation\",\n",
    "                                                        shuffle=False)"
   ]
  },
  {
   "cell_type": "markdown",
   "metadata": {},
   "source": [
    "# Getting the class names"
   ]
  },
  {
   "cell_type": "code",
   "execution_count": 6,
   "metadata": {},
   "outputs": [
    {
     "name": "stdout",
     "output_type": "stream",
     "text": [
      "{0: 'Normal', 1: 'Tuberculosis'}\n"
     ]
    }
   ],
   "source": [
    "temp_classes = dict(train_generator.class_indices)\n",
    "\n",
    "classes = dict()\n",
    "for (k, v) in temp_classes.items() :\n",
    "    classes[v] = k\n",
    "print(classes)"
   ]
  },
  {
   "cell_type": "markdown",
   "metadata": {},
   "source": [
    "# Building the CNN"
   ]
  },
  {
   "cell_type": "markdown",
   "metadata": {},
   "source": [
    "## Initalising the CNN"
   ]
  },
  {
   "cell_type": "code",
   "execution_count": 7,
   "metadata": {},
   "outputs": [],
   "source": [
    "model = Sequential()"
   ]
  },
  {
   "cell_type": "markdown",
   "metadata": {},
   "source": [
    "# Adding the layers"
   ]
  },
  {
   "cell_type": "markdown",
   "metadata": {},
   "source": [
    "## Adding the First Convolutional and Pooling layers"
   ]
  },
  {
   "cell_type": "code",
   "execution_count": 8,
   "metadata": {},
   "outputs": [],
   "source": [
    "model.add(Conv2D(32, (3, 3), input_shape = (img_size[0], img_size[1], 1), activation = \"relu\"))\n",
    "model.add(MaxPooling2D(pool_size = (2, 2)))"
   ]
  },
  {
   "cell_type": "markdown",
   "metadata": {},
   "source": [
    "## Adding the Second Convolutional and Pooling layers"
   ]
  },
  {
   "cell_type": "code",
   "execution_count": 9,
   "metadata": {},
   "outputs": [],
   "source": [
    "model.add(Conv2D(32, (3, 3), input_shape = (img_size[0], img_size[1], 1), activation = \"relu\"))\n",
    "model.add(MaxPooling2D(pool_size = (2, 2)))"
   ]
  },
  {
   "cell_type": "markdown",
   "metadata": {},
   "source": [
    "## Adding the Third Convolutional and Pooling layers"
   ]
  },
  {
   "cell_type": "code",
   "execution_count": 10,
   "metadata": {},
   "outputs": [],
   "source": [
    "model.add(Conv2D(64, (3, 3), input_shape = (img_size[0], img_size[1], 1), activation = \"relu\"))\n",
    "model.add(MaxPooling2D(pool_size = (2, 2)))"
   ]
  },
  {
   "cell_type": "markdown",
   "metadata": {},
   "source": [
    "## Adding the Forth Convolutional and Pooling layers"
   ]
  },
  {
   "cell_type": "code",
   "execution_count": 11,
   "metadata": {},
   "outputs": [],
   "source": [
    "model.add(Conv2D(64, (3, 3), input_shape = (img_size[0], img_size[1], 1), activation = \"relu\"))\n",
    "model.add(MaxPooling2D(pool_size = (2, 2)))"
   ]
  },
  {
   "cell_type": "markdown",
   "metadata": {},
   "source": [
    "## Adding the Fifth Convolutional and Pooling layers"
   ]
  },
  {
   "cell_type": "code",
   "execution_count": 12,
   "metadata": {},
   "outputs": [],
   "source": [
    "model.add(Conv2D(128, (3, 3), input_shape = (img_size[0], img_size[1], 1), activation = \"relu\"))\n",
    "model.add(MaxPooling2D(pool_size = (2, 2)))"
   ]
  },
  {
   "cell_type": "markdown",
   "metadata": {},
   "source": [
    "## Adding the Sixth Convolutional and Pooling layers"
   ]
  },
  {
   "cell_type": "code",
   "execution_count": 13,
   "metadata": {},
   "outputs": [],
   "source": [
    "model.add(Conv2D(128, (3, 3), input_shape = (img_size[0], img_size[1], 1), activation = \"relu\"))\n",
    "model.add(MaxPooling2D(pool_size = (2, 2)))"
   ]
  },
  {
   "cell_type": "markdown",
   "metadata": {},
   "source": [
    "# Flattening all the layers"
   ]
  },
  {
   "cell_type": "code",
   "execution_count": 14,
   "metadata": {},
   "outputs": [],
   "source": [
    "model.add(Flatten())"
   ]
  },
  {
   "cell_type": "markdown",
   "metadata": {},
   "source": [
    "## Adding the First Fully Connected Layer"
   ]
  },
  {
   "cell_type": "code",
   "execution_count": 15,
   "metadata": {},
   "outputs": [],
   "source": [
    "model.add(Dense(units = 128, activation = \"relu\"))"
   ]
  },
  {
   "cell_type": "markdown",
   "metadata": {},
   "source": [
    "## Adding the Second Fully Connected Layer"
   ]
  },
  {
   "cell_type": "code",
   "execution_count": 16,
   "metadata": {},
   "outputs": [],
   "source": [
    "model.add(Dense(units = 64, activation = \"relu\"))"
   ]
  },
  {
   "cell_type": "markdown",
   "metadata": {},
   "source": [
    "## Adding the Third Fully Connected Layer"
   ]
  },
  {
   "cell_type": "code",
   "execution_count": 17,
   "metadata": {},
   "outputs": [],
   "source": [
    "model.add(Dense(units = 32, activation = \"relu\"))"
   ]
  },
  {
   "cell_type": "markdown",
   "metadata": {},
   "source": [
    "## Adding the Final Fully Connected Layer"
   ]
  },
  {
   "cell_type": "code",
   "execution_count": 18,
   "metadata": {},
   "outputs": [],
   "source": [
    "model.add(Dense(units = 1, activation = \"sigmoid\"))"
   ]
  },
  {
   "cell_type": "markdown",
   "metadata": {},
   "source": [
    "## Displaying the model summary"
   ]
  },
  {
   "cell_type": "code",
   "execution_count": 19,
   "metadata": {},
   "outputs": [
    {
     "name": "stdout",
     "output_type": "stream",
     "text": [
      "Model: \"sequential\"\n",
      "_________________________________________________________________\n",
      "Layer (type)                 Output Shape              Param #   \n",
      "=================================================================\n",
      "conv2d (Conv2D)              (None, 254, 254, 32)      320       \n",
      "_________________________________________________________________\n",
      "max_pooling2d (MaxPooling2D) (None, 127, 127, 32)      0         \n",
      "_________________________________________________________________\n",
      "conv2d_1 (Conv2D)            (None, 125, 125, 32)      9248      \n",
      "_________________________________________________________________\n",
      "max_pooling2d_1 (MaxPooling2 (None, 62, 62, 32)        0         \n",
      "_________________________________________________________________\n",
      "conv2d_2 (Conv2D)            (None, 60, 60, 64)        18496     \n",
      "_________________________________________________________________\n",
      "max_pooling2d_2 (MaxPooling2 (None, 30, 30, 64)        0         \n",
      "_________________________________________________________________\n",
      "conv2d_3 (Conv2D)            (None, 28, 28, 64)        36928     \n",
      "_________________________________________________________________\n",
      "max_pooling2d_3 (MaxPooling2 (None, 14, 14, 64)        0         \n",
      "_________________________________________________________________\n",
      "conv2d_4 (Conv2D)            (None, 12, 12, 128)       73856     \n",
      "_________________________________________________________________\n",
      "max_pooling2d_4 (MaxPooling2 (None, 6, 6, 128)         0         \n",
      "_________________________________________________________________\n",
      "conv2d_5 (Conv2D)            (None, 4, 4, 128)         147584    \n",
      "_________________________________________________________________\n",
      "max_pooling2d_5 (MaxPooling2 (None, 2, 2, 128)         0         \n",
      "_________________________________________________________________\n",
      "flatten (Flatten)            (None, 512)               0         \n",
      "_________________________________________________________________\n",
      "dense (Dense)                (None, 128)               65664     \n",
      "_________________________________________________________________\n",
      "dense_1 (Dense)              (None, 64)                8256      \n",
      "_________________________________________________________________\n",
      "dense_2 (Dense)              (None, 32)                2080      \n",
      "_________________________________________________________________\n",
      "dense_3 (Dense)              (None, 1)                 33        \n",
      "=================================================================\n",
      "Total params: 362,465\n",
      "Trainable params: 362,465\n",
      "Non-trainable params: 0\n",
      "_________________________________________________________________\n"
     ]
    }
   ],
   "source": [
    "model.summary()"
   ]
  },
  {
   "cell_type": "markdown",
   "metadata": {},
   "source": [
    "## Compiling the CNN model"
   ]
  },
  {
   "cell_type": "code",
   "execution_count": 20,
   "metadata": {},
   "outputs": [],
   "source": [
    "model.compile(optimizer = \"adam\",\n",
    "             loss = \"binary_crossentropy\", \n",
    "             metrics = [\"accuracy\"])"
   ]
  },
  {
   "cell_type": "markdown",
   "metadata": {},
   "source": [
    "# Training the CNN"
   ]
  },
  {
   "cell_type": "markdown",
   "metadata": {},
   "source": [
    "## Saving the Best model only"
   ]
  },
  {
   "cell_type": "code",
   "execution_count": 21,
   "metadata": {},
   "outputs": [],
   "source": [
    "checkpoint = ModelCheckpoint(filepath = \"tuberculosis.h5\",\n",
    "                            save_best_only = True)"
   ]
  },
  {
   "cell_type": "markdown",
   "metadata": {},
   "source": [
    "## Stopping the Training, if there is no improvement"
   ]
  },
  {
   "cell_type": "code",
   "execution_count": 22,
   "metadata": {},
   "outputs": [],
   "source": [
    "earlyStopping = EarlyStopping(monitor=\"val_loss\", \n",
    "                              patience = 10,\n",
    "                             restore_best_weights = True,\n",
    "                             verbose = 1)"
   ]
  },
  {
   "cell_type": "markdown",
   "metadata": {},
   "source": [
    "## Calculating the steps_per_epoch and validation_steps"
   ]
  },
  {
   "cell_type": "code",
   "execution_count": 23,
   "metadata": {},
   "outputs": [
    {
     "name": "stdout",
     "output_type": "stream",
     "text": [
      "350\n",
      "88\n"
     ]
    }
   ],
   "source": [
    "import math\n",
    "\n",
    "batch_size = batch_size\n",
    "training_size = 5600\n",
    "validation_size = 1400\n",
    "\n",
    "compute_steps_per_epoch = lambda x : int(math.ceil(1. * x / batch_size))\n",
    "\n",
    "steps_per_epoch = compute_steps_per_epoch(training_size)\n",
    "validation_steps = compute_steps_per_epoch(validation_size)\n",
    "\n",
    "print(steps_per_epoch)\n",
    "print(validation_steps)"
   ]
  },
  {
   "cell_type": "code",
   "execution_count": 24,
   "metadata": {},
   "outputs": [
    {
     "name": "stdout",
     "output_type": "stream",
     "text": [
      "Epoch 1/50\n",
      "350/350 [==============================] - 232s 660ms/step - loss: 0.6626 - accuracy: 0.5781 - val_loss: 0.4989 - val_accuracy: 0.7679\n",
      "Epoch 2/50\n",
      "350/350 [==============================] - 209s 596ms/step - loss: 0.5210 - accuracy: 0.7686 - val_loss: 0.4513 - val_accuracy: 0.8071\n",
      "Epoch 3/50\n",
      "350/350 [==============================] - 215s 613ms/step - loss: 0.4312 - accuracy: 0.8245 - val_loss: 0.4085 - val_accuracy: 0.8214\n",
      "Epoch 4/50\n",
      "350/350 [==============================] - 213s 609ms/step - loss: 0.4113 - accuracy: 0.8276 - val_loss: 0.3245 - val_accuracy: 0.8579\n",
      "Epoch 5/50\n",
      "350/350 [==============================] - 208s 593ms/step - loss: 0.3160 - accuracy: 0.8640 - val_loss: 0.2273 - val_accuracy: 0.9086\n",
      "Epoch 6/50\n",
      "350/350 [==============================] - 208s 593ms/step - loss: 0.2866 - accuracy: 0.8776 - val_loss: 0.2290 - val_accuracy: 0.9157\n",
      "Epoch 7/50\n",
      "350/350 [==============================] - 206s 587ms/step - loss: 0.2338 - accuracy: 0.9029 - val_loss: 0.2574 - val_accuracy: 0.8921\n",
      "Epoch 8/50\n",
      "350/350 [==============================] - 222s 635ms/step - loss: 0.2295 - accuracy: 0.9066 - val_loss: 0.1922 - val_accuracy: 0.9250\n",
      "Epoch 9/50\n",
      "350/350 [==============================] - 225s 641ms/step - loss: 0.2177 - accuracy: 0.9111 - val_loss: 0.1768 - val_accuracy: 0.9307\n",
      "Epoch 10/50\n",
      "350/350 [==============================] - 219s 624ms/step - loss: 0.1993 - accuracy: 0.9202 - val_loss: 0.1786 - val_accuracy: 0.9364\n",
      "Epoch 11/50\n",
      "350/350 [==============================] - 221s 630ms/step - loss: 0.1807 - accuracy: 0.9256 - val_loss: 0.2275 - val_accuracy: 0.9050\n",
      "Epoch 12/50\n",
      "350/350 [==============================] - 222s 634ms/step - loss: 0.2018 - accuracy: 0.9280 - val_loss: 0.2449 - val_accuracy: 0.9057\n",
      "Epoch 13/50\n",
      "350/350 [==============================] - 240s 685ms/step - loss: 0.1910 - accuracy: 0.9233 - val_loss: 0.1485 - val_accuracy: 0.9450\n",
      "Epoch 14/50\n",
      "350/350 [==============================] - 228s 652ms/step - loss: 0.1712 - accuracy: 0.9349 - val_loss: 0.2404 - val_accuracy: 0.9179\n",
      "Epoch 15/50\n",
      "350/350 [==============================] - 212s 606ms/step - loss: 0.1639 - accuracy: 0.9327 - val_loss: 0.1706 - val_accuracy: 0.9293\n",
      "Epoch 16/50\n",
      "350/350 [==============================] - 191s 547ms/step - loss: 0.1536 - accuracy: 0.9387 - val_loss: 0.1500 - val_accuracy: 0.9436\n",
      "Epoch 17/50\n",
      "350/350 [==============================] - 195s 557ms/step - loss: 0.1437 - accuracy: 0.9439 - val_loss: 0.1360 - val_accuracy: 0.9464\n",
      "Epoch 18/50\n",
      "350/350 [==============================] - 200s 570ms/step - loss: 0.1456 - accuracy: 0.9450 - val_loss: 0.1339 - val_accuracy: 0.9464\n",
      "Epoch 19/50\n",
      "350/350 [==============================] - 194s 554ms/step - loss: 0.1504 - accuracy: 0.9421 - val_loss: 0.1464 - val_accuracy: 0.9386\n",
      "Epoch 20/50\n",
      "350/350 [==============================] - 204s 582ms/step - loss: 0.1486 - accuracy: 0.9444 - val_loss: 0.1100 - val_accuracy: 0.9593\n",
      "Epoch 21/50\n",
      "350/350 [==============================] - 213s 609ms/step - loss: 0.1453 - accuracy: 0.9486 - val_loss: 0.1824 - val_accuracy: 0.9393\n",
      "Epoch 22/50\n",
      "350/350 [==============================] - 209s 596ms/step - loss: 0.1446 - accuracy: 0.9519 - val_loss: 0.1125 - val_accuracy: 0.9586\n",
      "Epoch 23/50\n",
      "350/350 [==============================] - 211s 603ms/step - loss: 0.1145 - accuracy: 0.9585 - val_loss: 0.1178 - val_accuracy: 0.9557\n",
      "Epoch 24/50\n",
      "350/350 [==============================] - 208s 593ms/step - loss: 0.1350 - accuracy: 0.9562 - val_loss: 0.1139 - val_accuracy: 0.9557\n",
      "Epoch 25/50\n",
      "350/350 [==============================] - 209s 596ms/step - loss: 0.1128 - accuracy: 0.9573 - val_loss: 0.1398 - val_accuracy: 0.9464\n",
      "Epoch 26/50\n",
      "350/350 [==============================] - 219s 626ms/step - loss: 0.1200 - accuracy: 0.9581 - val_loss: 0.1522 - val_accuracy: 0.9464\n",
      "Epoch 27/50\n",
      "350/350 [==============================] - 210s 600ms/step - loss: 0.1267 - accuracy: 0.9554 - val_loss: 0.1318 - val_accuracy: 0.9493\n",
      "Epoch 28/50\n",
      "350/350 [==============================] - 210s 600ms/step - loss: 0.1182 - accuracy: 0.9565 - val_loss: 0.1052 - val_accuracy: 0.9614\n",
      "Epoch 29/50\n",
      "350/350 [==============================] - 213s 608ms/step - loss: 0.1194 - accuracy: 0.9580 - val_loss: 0.1072 - val_accuracy: 0.9629\n",
      "Epoch 30/50\n",
      "350/350 [==============================] - 208s 595ms/step - loss: 0.1004 - accuracy: 0.9659 - val_loss: 0.1044 - val_accuracy: 0.9600\n",
      "Epoch 31/50\n",
      "350/350 [==============================] - 210s 599ms/step - loss: 0.1028 - accuracy: 0.9623 - val_loss: 0.1579 - val_accuracy: 0.9514\n",
      "Epoch 32/50\n",
      "350/350 [==============================] - 209s 598ms/step - loss: 0.1090 - accuracy: 0.9634 - val_loss: 0.1020 - val_accuracy: 0.9600\n",
      "Epoch 33/50\n",
      "350/350 [==============================] - 213s 608ms/step - loss: 0.1152 - accuracy: 0.9565 - val_loss: 0.0937 - val_accuracy: 0.9643\n",
      "Epoch 34/50\n",
      "350/350 [==============================] - 213s 607ms/step - loss: 0.1120 - accuracy: 0.9570 - val_loss: 0.1008 - val_accuracy: 0.9621\n",
      "Epoch 35/50\n",
      "350/350 [==============================] - 216s 617ms/step - loss: 0.0942 - accuracy: 0.9642 - val_loss: 0.1034 - val_accuracy: 0.9636\n",
      "Epoch 36/50\n",
      "350/350 [==============================] - 211s 603ms/step - loss: 0.1129 - accuracy: 0.9576 - val_loss: 0.1125 - val_accuracy: 0.9571\n",
      "Epoch 37/50\n",
      "350/350 [==============================] - 209s 597ms/step - loss: 0.0951 - accuracy: 0.9635 - val_loss: 0.1190 - val_accuracy: 0.9543\n",
      "Epoch 38/50\n",
      "350/350 [==============================] - 212s 605ms/step - loss: 0.0929 - accuracy: 0.9691 - val_loss: 0.1259 - val_accuracy: 0.9600\n",
      "Epoch 39/50\n",
      "350/350 [==============================] - 214s 612ms/step - loss: 0.0891 - accuracy: 0.9660 - val_loss: 0.1426 - val_accuracy: 0.9564\n",
      "Epoch 40/50\n",
      "350/350 [==============================] - 219s 624ms/step - loss: 0.0979 - accuracy: 0.9664 - val_loss: 0.1052 - val_accuracy: 0.9621\n",
      "Epoch 41/50\n",
      "350/350 [==============================] - 191s 547ms/step - loss: 0.0951 - accuracy: 0.9682 - val_loss: 0.1564 - val_accuracy: 0.9479\n",
      "Epoch 42/50\n",
      "350/350 [==============================] - 192s 547ms/step - loss: 0.1173 - accuracy: 0.9592 - val_loss: 0.1067 - val_accuracy: 0.9579\n",
      "Epoch 43/50\n",
      "350/350 [==============================] - 192s 548ms/step - loss: 0.0975 - accuracy: 0.9669 - val_loss: 0.1598 - val_accuracy: 0.9357\n",
      "Restoring model weights from the end of the best epoch.\n",
      "Epoch 00043: early stopping\n"
     ]
    }
   ],
   "source": [
    "history = model.fit(train_generator,\n",
    "                             steps_per_epoch = steps_per_epoch,\n",
    "                             epochs = 50,\n",
    "                             validation_data = validation_generator,\n",
    "                             validation_steps = validation_steps,\n",
    "                             callbacks = [checkpoint, earlyStopping])"
   ]
  },
  {
   "cell_type": "markdown",
   "metadata": {},
   "source": [
    "# Saving the model"
   ]
  },
  {
   "cell_type": "code",
   "execution_count": 25,
   "metadata": {},
   "outputs": [],
   "source": [
    "model_json = model.to_json()\n",
    "\n",
    "with open(\"tuberculosis.json\", \"w\") as json_file :\n",
    "    json_file.write(model_json)"
   ]
  },
  {
   "cell_type": "markdown",
   "metadata": {},
   "source": [
    "# Visualizing the Training Performance"
   ]
  },
  {
   "cell_type": "code",
   "execution_count": 26,
   "metadata": {},
   "outputs": [
    {
     "data": {
      "image/png": "[encoded data removed]",
      "text/plain": [
       "<Figure size 864x864 with 2 Axes>"
      ]
     },
     "metadata": {
      "needs_background": "light"
     },
     "output_type": "display_data"
    }
   ],
   "source": [
    "plt.figure(figsize = (12, 12))\n",
    "\n",
    "plt.subplot(2, 2, 1)\n",
    "plt.plot(history.history[\"accuracy\"], label = \"accuracy\")\n",
    "plt.plot(history.history[\"val_accuracy\"], label = \"val_accuracy\")\n",
    "plt.legend()\n",
    "plt.grid()\n",
    "plt.title(\"Accuracy Evaluation\")\n",
    "\n",
    "plt.subplot(2, 2, 2)\n",
    "plt.plot(history.history[\"loss\"], label = \"loss\")\n",
    "plt.plot(history.history[\"val_loss\"], label = \"val_loss\")\n",
    "plt.grid()\n",
    "plt.legend()\n",
    "plt.title(\"Loss Evaluation\")\n",
    "\n",
    "plt.savefig(\"tuberculosis_model_history.jpg\")"
   ]
  },
  {
   "cell_type": "markdown",
   "metadata": {},
   "source": [
    "# Getting the accuracy for test set"
   ]
  },
  {
   "cell_type": "code",
   "execution_count": 27,
   "metadata": {},
   "outputs": [
    {
     "name": "stdout",
     "output_type": "stream",
     "text": [
      "88/88 [==============================] - 24s 268ms/step - loss: 0.1164 - accuracy: 0.9564\n",
      "[0.11640110611915588, 0.956428587436676]\n"
     ]
    }
   ],
   "source": [
    "test_accuracy = model.evaluate(validation_generator)\n",
    "print(test_accuracy)"
   ]
  },
  {
   "cell_type": "code",
   "execution_count": 28,
   "metadata": {},
   "outputs": [
    {
     "name": "stdout",
     "output_type": "stream",
     "text": [
      "88/88 [==============================] - 24s 271ms/step\n"
     ]
    },
    {
     "data": {
      "text/plain": [
       "array([[3.9026456e-18],\n",
       "       [1.9471943e-03],\n",
       "       [4.2755902e-03],\n",
       "       ...,\n",
       "       [8.6675555e-01],\n",
       "       [9.9033082e-01],\n",
       "       [9.9960744e-01]], dtype=float32)"
      ]
     },
     "execution_count": 28,
     "metadata": {},
     "output_type": "execute_result"
    }
   ],
   "source": [
    "preds = model.predict(validation_generator, verbose=1)\n",
    "preds"
   ]
  },
  {
   "cell_type": "code",
   "execution_count": 29,
   "metadata": {},
   "outputs": [
    {
     "name": "stdout",
     "output_type": "stream",
     "text": [
      "[[0.]\n",
      " [0.]\n",
      " [0.]\n",
      " ...\n",
      " [1.]\n",
      " [1.]\n",
      " [1.]]\n"
     ]
    }
   ],
   "source": [
    "predictions = preds.copy()\n",
    "predictions[predictions <= 0.5] = 0\n",
    "predictions[predictions > 0.5] = 1\n",
    "\n",
    "print(predictions)"
   ]
  },
  {
   "cell_type": "code",
   "execution_count": null,
   "metadata": {},
   "outputs": [],
   "source": []
  }
 ],
 "metadata": {
  "kernelspec": {
   "display_name": "Python 3",
   "language": "python",
   "name": "python3"
  },
  "language_info": {
   "codemirror_mode": {
    "name": "ipython",
    "version": 3
   },
   "file_extension": ".py",
   "mimetype": "text/x-python",
   "name": "python",
   "nbconvert_exporter": "python",
   "pygments_lexer": "ipython3",
   "version": "3.8.5"
  }
 },
 "nbformat": 4,
 "nbformat_minor": 4
}
